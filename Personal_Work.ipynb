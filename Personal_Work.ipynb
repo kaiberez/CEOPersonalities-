{
 "cells": [
  {
   "cell_type": "code",
   "execution_count": 12,
   "id": "a44f86e8-890e-4dd8-b90d-28c0d361c356",
   "metadata": {},
   "outputs": [
    {
     "name": "stderr",
     "output_type": "stream",
     "text": [
      "[*********************100%***********************]  1 of 1 completed\n",
      "\n",
      "1 Failed download:\n",
      "['AAPL']: YFRateLimitError('Too Many Requests. Rate limited. Try after a while.')\n"
     ]
    },
    {
     "name": "stdout",
     "output_type": "stream",
     "text": [
      "Empty DataFrame\n",
      "Columns: [(Adj Close, AAPL), (Close, AAPL), (High, AAPL), (Low, AAPL), (Open, AAPL), (Volume, AAPL)]\n",
      "Index: []\n"
     ]
    }
   ],
   "source": [
    "import yfinance as yf\n",
    "import pandas as pd\n",
    "# Example: Download daily data for Apple (AAPL) over 10 years\n",
    "ticker = \"AAPL\"\n",
    "start_date = \"2010-01-01\"\n",
    "end_date = \"2019-12-31\"\n",
    "\n",
    "# Download historical stock data\n",
    "data = yf.download(ticker, start=start_date, end=end_date)\n",
    "\n",
    "# Show first few rows\n",
    "print(data.head())\n"
   ]
  },
  {
   "cell_type": "code",
   "execution_count": 14,
   "id": "610a803d-dfd2-4f78-b404-2682b6683c70",
   "metadata": {},
   "outputs": [
    {
     "name": "stderr",
     "output_type": "stream",
     "text": [
      "[*********************100%***********************]  67 of 67 completed\n",
      "\n",
      "67 Failed downloads:\n",
      "['LUMN', 'FFIV', 'VRSN', 'CTXS', 'MRVL', 'CIEN', 'EPAM', 'ANET', 'TRMB', 'ADI', 'ADBE', 'XLNX', 'PANW', 'HPQ', 'SAIC', 'CSCO', 'COHR', 'CRM', 'ZBRA', 'KLAC', 'CDW', 'FTNT', 'CHKP', 'KEYS', 'STX', 'AVGO', 'ON', 'ENPH', 'SEDG', 'PYPL', 'AAPL', 'INTC', 'VMW', 'NVDA', 'LDOS', 'ORCL', 'AMD', 'SNPS', 'SWKS', 'JNPR', 'ANSS', 'MPWR', 'COMM', 'MCHP', 'WDC', 'APH', 'MU', 'MSFT', 'QCOM', 'TYL', 'AKAM', 'CTSH', 'CDNS', 'TXN', 'TER', 'NLOK', 'LRCX', 'NOW', 'DXC', 'MSI', 'IBM', 'GLW', 'AMAT', 'INTU', 'IT', 'JKHY', 'NTAP']: YFRateLimitError('Too Many Requests. Rate limited. Try after a while.')\n"
     ]
    },
    {
     "name": "stdout",
     "output_type": "stream",
     "text": [
      "Empty DataFrame\n",
      "Columns: [AAPL, ADBE, ADI, AKAM, AMAT, AMD, ANET, ANSS, APH, AVGO, CDNS, CDW, CHKP, CIEN, COHR, COMM, CRM, CSCO, CTSH, CTXS, DXC, ENPH, EPAM, FFIV, FTNT, GLW, HPQ, IBM, INTC, INTU, IT, JKHY, JNPR, KEYS, KLAC, LDOS, LRCX, LUMN, MCHP, MPWR, MRVL, MSFT, MSI, MU, NLOK, NOW, NTAP, NVDA, ON, ORCL, PANW, PYPL, QCOM, SAIC, SEDG, SNPS, STX, SWKS, TER, TRMB, TXN, TYL, VMW, VRSN, WDC, XLNX, ZBRA]\n",
      "Index: []\n",
      "\n",
      "[0 rows x 67 columns]\n"
     ]
    }
   ],
   "source": [
    "import yfinance as yf\n",
    "import pandas as pd\n",
    "\n",
    "tickers = [\n",
    "    \"AAPL\", \"MSFT\", \"NVDA\", \"AVGO\", \"ADBE\", \"CSCO\", \"ORCL\", \"CRM\", \"INTC\", \"TXN\", \"QCOM\", \"IBM\", \"PYPL\", \"NOW\", \"INTU\",\n",
    "    \"AMD\", \"HPQ\", \"MU\", \"ADI\", \"LRCX\", \"AMAT\", \"KLAC\", \"MRVL\", \"CDNS\", \"SNPS\", \"FTNT\", \"FFIV\", \"ANET\", \"MSI\", \"WDC\",\n",
    "    \"STX\", \"XLNX\", \"NLOK\", \"AKAM\", \"VRSN\", \"KEYS\", \"IT\", \"EPAM\", \"JKHY\", \"CDW\", \"ANSS\", \"APH\", \"ON\", \"MCHP\", \"SWKS\",\n",
    "    \"MPWR\", \"ENPH\", \"SEDG\", \"COHR\", \"TER\", \"ZBRA\", \"TRMB\", \"TYL\", \"CTSH\", \"DXC\", \"LDOS\", \"SAIC\", \"LUMN\", \"GLW\", \"NTAP\",\n",
    "    \"CTXS\", \"JNPR\", \"COMM\", \"CIEN\", \"PANW\", \"CHKP\", \"VMW\"\n",
    "]\n",
    "\n",
    "# Download adjusted close prices from 2010 to 2019\n",
    "returns_data = yf.download(tickers, start=\"2010-01-01\", end=\"2019-12-31\")['Adj Close']\n",
    "\n",
    "# Calculate daily returns\n",
    "returns = returns_data.pct_change().dropna()\n",
    "\n",
    "# Save to CSV if needed\n",
    "returns.to_csv(\"tech_sector_daily_returns_2010_2019.csv\")\n",
    "\n",
    "# Preview data\n",
    "print(returns.head())\n"
   ]
  },
  {
   "cell_type": "code",
   "execution_count": null,
   "id": "14a678f6-036e-4863-a52f-aca9b3a2a24a",
   "metadata": {},
   "outputs": [],
   "source": []
  }
 ],
 "metadata": {
  "kernelspec": {
   "display_name": "Python [conda env:base] *",
   "language": "python",
   "name": "conda-base-py"
  },
  "language_info": {
   "codemirror_mode": {
    "name": "ipython",
    "version": 3
   },
   "file_extension": ".py",
   "mimetype": "text/x-python",
   "name": "python",
   "nbconvert_exporter": "python",
   "pygments_lexer": "ipython3",
   "version": "3.12.7"
  }
 },
 "nbformat": 4,
 "nbformat_minor": 5
}
